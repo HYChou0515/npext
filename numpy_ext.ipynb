{
 "cells": [
  {
   "cell_type": "code",
   "execution_count": 1,
   "id": "e7959474-809b-4aca-b4ec-b4805e04ee0e",
   "metadata": {},
   "outputs": [
    {
     "data": {
      "text/plain": [
       "'1.26.4'"
      ]
     },
     "execution_count": 1,
     "metadata": {},
     "output_type": "execute_result"
    }
   ],
   "source": [
    "import numpy as np\n",
    "np.__version__\n"
   ]
  },
  {
   "cell_type": "code",
   "execution_count": 2,
   "id": "dfec2b7c-8216-4134-b93c-0d99c72bcad2",
   "metadata": {},
   "outputs": [
    {
     "data": {
      "text/plain": [
       "'1.12.0'"
      ]
     },
     "execution_count": 2,
     "metadata": {},
     "output_type": "execute_result"
    }
   ],
   "source": [
    "import scipy as sp\n",
    "sp.__version__"
   ]
  },
  {
   "cell_type": "code",
   "execution_count": 10,
   "id": "8557c5cf-94b5-4263-94ac-588d2a160928",
   "metadata": {},
   "outputs": [],
   "source": [
    "class ExtendedNDArray(np.ndarray):\n",
    "    def __new__(cls, input_array, *args, **kwargs):\n",
    "        # Input array is an already formed ndarray instance\n",
    "        # We first cast to be our class type\n",
    "        obj = np.asarray(input_array).view(cls)\n",
    "        return obj\n",
    "\n",
    "    def __array_ufunc__(self, ufunc, method, *inputs, out=None, **kwargs):\n",
    "        print(f\"{method=}\")\n",
    "        cls = self.__class__\n",
    "        args = []\n",
    "        in_no = []\n",
    "        for i, input_ in enumerate(inputs):\n",
    "            if isinstance(input_, cls):\n",
    "                in_no.append(i)\n",
    "                args.append(input_.view(np.ndarray))\n",
    "            else:\n",
    "                args.append(input_)\n",
    "\n",
    "        outputs = out\n",
    "        out_no = []\n",
    "        if outputs:\n",
    "            out_args = []\n",
    "            for j, output in enumerate(outputs):\n",
    "                if isinstance(output, cls):\n",
    "                    out_no.append(j)\n",
    "                    out_args.append(output.view(np.ndarray))\n",
    "                else:\n",
    "                    out_args.append(output)\n",
    "            kwargs['out'] = tuple(out_args)\n",
    "        else:\n",
    "            outputs = (None,) * ufunc.nout\n",
    "\n",
    "        results = super().__array_ufunc__(ufunc, method, *args, **kwargs)\n",
    "        if results is NotImplemented:\n",
    "            return NotImplemented\n",
    "\n",
    "\n",
    "        if method == 'at':\n",
    "            return\n",
    "\n",
    "        if method == \"__call__\":\n",
    "            def cast_back_to_class(result):\n",
    "                # do not cast\n",
    "                return np.asarray(result).view(cls)\n",
    "        else:\n",
    "            def cast_back_to_class(result):\n",
    "                # do not cast\n",
    "                return result\n",
    "\n",
    "        if ufunc.nout == 1:\n",
    "            results = (results,)\n",
    "\n",
    "        results = tuple((cast_back_to_class(result)\n",
    "                         if output is None else output)\n",
    "                        for result, output in zip(results, outputs))\n",
    "\n",
    "        return results[0] if len(results) == 1 else results\n",
    "\n",
    "class Image(ExtendedNDArray):\n",
    "    def __new__(cls, *args, **kwargs):\n",
    "        print(\"Image new\")\n",
    "        return super().__new__(cls, *args, **kwargs)\n",
    "    def __array_finalize__ (self, obj):\n",
    "        print(f\"finalize {obj}\")\n",
    "        if obj is None: return\n",
    "        print(f\"finalize1 {obj}\")\n",
    "        \n",
    "        if len(self.shape) == 2:\n",
    "            print(f\"finalize2 {obj}\")\n",
    "            return obj\n",
    "        else:\n",
    "            print(f\"finalize3 {obj}\")\n",
    "            return 3\n",
    "    @property\n",
    "    def width(self):\n",
    "        return self.shape[1]\n",
    "    @property\n",
    "    def height(self):\n",
    "        return self.shape[0]"
   ]
  },
  {
   "cell_type": "code",
   "execution_count": 11,
   "id": "827d5312-667b-4a2b-b953-d12f0748bb20",
   "metadata": {},
   "outputs": [
    {
     "name": "stdout",
     "output_type": "stream",
     "text": [
      "Image new\n",
      "finalize [[ 0  1  2  3  4]\n",
      " [ 5  6  7  8  9]\n",
      " [10 11 12 13 14]\n",
      " [15 16 17 18 19]]\n",
      "finalize1 [[ 0  1  2  3  4]\n",
      " [ 5  6  7  8  9]\n",
      " [10 11 12 13 14]\n",
      " [15 16 17 18 19]]\n",
      "finalize2 [[ 0  1  2  3  4]\n",
      " [ 5  6  7  8  9]\n",
      " [10 11 12 13 14]\n",
      " [15 16 17 18 19]]\n"
     ]
    }
   ],
   "source": [
    "image = Image(np.arange(20).reshape((4, 5)))\n",
    "arr = np.arange(20).reshape((4, 5))"
   ]
  },
  {
   "cell_type": "code",
   "execution_count": 12,
   "id": "af60d9f1-5765-4b07-ac2a-8d77b8a9753b",
   "metadata": {},
   "outputs": [],
   "source": [
    "def get_view_name(a):\n",
    "    if '(' not in repr(a):\n",
    "        return None\n",
    "    return repr(a).partition('(')[0]"
   ]
  },
  {
   "cell_type": "code",
   "execution_count": 13,
   "id": "f15de02c-aaa2-442d-8eb1-5d1ead9c615c",
   "metadata": {},
   "outputs": [
    {
     "name": "stdout",
     "output_type": "stream",
     "text": [
      "finalize [[ 0  1  2  3  4]\n",
      " [ 5  6  7  8  9]\n",
      " [10 11 12 13 14]\n",
      " [15 16 17 18 19]]\n",
      "finalize1 [[ 0  1  2  3  4]\n",
      " [ 5  6  7  8  9]\n",
      " [10 11 12 13 14]\n",
      " [15 16 17 18 19]]\n",
      "finalize3 [[ 0  1  2  3  4]\n",
      " [ 5  6  7  8  9]\n",
      " [10 11 12 13 14]\n",
      " [15 16 17 18 19]]\n"
     ]
    },
    {
     "data": {
      "text/plain": [
       "Image([ 0,  1,  2,  3,  4,  5,  6,  7,  8,  9, 10, 11, 12, 13, 14, 15, 16,\n",
       "       17, 18, 19])"
      ]
     },
     "execution_count": 13,
     "metadata": {},
     "output_type": "execute_result"
    }
   ],
   "source": [
    "image.reshape((-1,))"
   ]
  },
  {
   "cell_type": "code",
   "execution_count": 16,
   "id": "609c4450-d652-4779-af28-3837ca881f88",
   "metadata": {},
   "outputs": [
    {
     "name": "stdout",
     "output_type": "stream",
     "text": [
      "finalize [[ 0  1  2  3  4]\n",
      " [ 5  6  7  8  9]\n",
      " [10 11 12 13 14]\n",
      " [15 16 17 18 19]]\n",
      "finalize1 [[ 0  1  2  3  4]\n",
      " [ 5  6  7  8  9]\n",
      " [10 11 12 13 14]\n",
      " [15 16 17 18 19]]\n",
      "finalize2 [[ 0  1  2  3  4]\n",
      " [ 5  6  7  8  9]\n",
      " [10 11 12 13 14]\n",
      " [15 16 17 18 19]]\n"
     ]
    },
    {
     "data": {
      "text/plain": [
       "Image([[0, 1, 2, 3, 4],\n",
       "       [5, 6, 7, 8, 9]])"
      ]
     },
     "execution_count": 16,
     "metadata": {},
     "output_type": "execute_result"
    }
   ],
   "source": [
    "image[:2]"
   ]
  },
  {
   "cell_type": "code",
   "execution_count": 8,
   "id": "b8b38f5e-264a-4b80-8727-afb7144eb301",
   "metadata": {},
   "outputs": [
    {
     "name": "stdout",
     "output_type": "stream",
     "text": [
      "method='__call__'\n",
      "finalize [[ 1  2  3  4  5]\n",
      " [ 6  7  8  9 10]\n",
      " [11 12 13 14 15]\n",
      " [16 17 18 19 20]]\n",
      "finalize1 [[ 1  2  3  4  5]\n",
      " [ 6  7  8  9 10]\n",
      " [11 12 13 14 15]\n",
      " [16 17 18 19 20]]\n",
      "finalize2 [[ 1  2  3  4  5]\n",
      " [ 6  7  8  9 10]\n",
      " [11 12 13 14 15]\n",
      " [16 17 18 19 20]]\n",
      "method='__call__'\n",
      "finalize [[  0   1   4   9  16]\n",
      " [ 25  36  49  64  81]\n",
      " [100 121 144 169 196]\n",
      " [225 256 289 324 361]]\n",
      "finalize1 [[  0   1   4   9  16]\n",
      " [ 25  36  49  64  81]\n",
      " [100 121 144 169 196]\n",
      " [225 256 289 324 361]]\n",
      "finalize2 [[  0   1   4   9  16]\n",
      " [ 25  36  49  64  81]\n",
      " [100 121 144 169 196]\n",
      " [225 256 289 324 361]]\n",
      "finalize [[ 0  1  2  3  4]\n",
      " [ 5  6  7  8  9]\n",
      " [10 11 12 13 14]\n",
      " [15 16 17 18 19]]\n",
      "finalize1 [[ 0  1  2  3  4]\n",
      " [ 5  6  7  8  9]\n",
      " [10 11 12 13 14]\n",
      " [15 16 17 18 19]]\n",
      "finalize2 [[ 0  1  2  3  4]\n",
      " [ 5  6  7  8  9]\n",
      " [10 11 12 13 14]\n",
      " [15 16 17 18 19]]\n",
      "method='__call__'\n",
      "finalize [[ 0  1  2  3  4]\n",
      " [ 5  6  7  8  9]\n",
      " [10 11 12 13 14]\n",
      " [15 16 17 18 19]]\n",
      "finalize1 [[ 0  1  2  3  4]\n",
      " [ 5  6  7  8  9]\n",
      " [10 11 12 13 14]\n",
      " [15 16 17 18 19]]\n",
      "finalize2 [[ 0  1  2  3  4]\n",
      " [ 5  6  7  8  9]\n",
      " [10 11 12 13 14]\n",
      " [15 16 17 18 19]]\n",
      "method='__call__'\n",
      "finalize [[ 0.          0.84147098  0.90929743  0.14112001 -0.7568025 ]\n",
      " [-0.95892427 -0.2794155   0.6569866   0.98935825  0.41211849]\n",
      " [-0.54402111 -0.99999021 -0.53657292  0.42016704  0.99060736]\n",
      " [ 0.65028784 -0.28790332 -0.96139749 -0.75098725  0.14987721]]\n",
      "finalize1 [[ 0.          0.84147098  0.90929743  0.14112001 -0.7568025 ]\n",
      " [-0.95892427 -0.2794155   0.6569866   0.98935825  0.41211849]\n",
      " [-0.54402111 -0.99999021 -0.53657292  0.42016704  0.99060736]\n",
      " [ 0.65028784 -0.28790332 -0.96139749 -0.75098725  0.14987721]]\n",
      "finalize2 [[ 0.          0.84147098  0.90929743  0.14112001 -0.7568025 ]\n",
      " [-0.95892427 -0.2794155   0.6569866   0.98935825  0.41211849]\n",
      " [-0.54402111 -0.99999021 -0.53657292  0.42016704  0.99060736]\n",
      " [ 0.65028784 -0.28790332 -0.96139749 -0.75098725  0.14987721]]\n",
      "method='__call__'\n",
      "finalize [[ 0.          0.84147098  0.90929743  0.14112001 -0.7568025 ]\n",
      " [-0.95892427 -0.2794155   0.6569866   0.98935825  0.41211849]\n",
      " [-0.54402111 -0.99999021 -0.53657292  0.42016704  0.99060736]\n",
      " [ 0.65028784 -0.28790332 -0.96139749 -0.75098725  0.14987721]]\n",
      "finalize1 [[ 0.          0.84147098  0.90929743  0.14112001 -0.7568025 ]\n",
      " [-0.95892427 -0.2794155   0.6569866   0.98935825  0.41211849]\n",
      " [-0.54402111 -0.99999021 -0.53657292  0.42016704  0.99060736]\n",
      " [ 0.65028784 -0.28790332 -0.96139749 -0.75098725  0.14987721]]\n",
      "finalize2 [[ 0.          0.84147098  0.90929743  0.14112001 -0.7568025 ]\n",
      " [-0.95892427 -0.2794155   0.6569866   0.98935825  0.41211849]\n",
      " [-0.54402111 -0.99999021 -0.53657292  0.42016704  0.99060736]\n",
      " [ 0.65028784 -0.28790332 -0.96139749 -0.75098725  0.14987721]]\n",
      "finalize [[ 0  1  2  3  4]\n",
      " [ 5  6  7  8  9]\n",
      " [10 11 12 13 14]\n",
      " [15 16 17 18 19]]\n",
      "finalize1 [[ 0  1  2  3  4]\n",
      " [ 5  6  7  8  9]\n",
      " [10 11 12 13 14]\n",
      " [15 16 17 18 19]]\n",
      "finalize2 [[ 0  1  2  3  4]\n",
      " [ 5  6  7  8  9]\n",
      " [10 11 12 13 14]\n",
      " [15 16 17 18 19]]\n",
      "method='__call__'\n",
      "finalize [[1.00000000e+00 1.26606588e+00 2.27958530e+00 4.88079259e+00\n",
      "  1.13019220e+01]\n",
      " [2.72398718e+01 6.72344070e+01 1.68593909e+02 4.27564116e+02\n",
      "  1.09358835e+03]\n",
      " [2.81571663e+03 7.28848934e+03 1.89489253e+04 4.94444896e+04\n",
      "  1.29418563e+05]\n",
      " [3.39649373e+05 8.93446228e+05 2.35497022e+06 6.21841242e+06\n",
      "  1.64461904e+07]]\n",
      "finalize1 [[1.00000000e+00 1.26606588e+00 2.27958530e+00 4.88079259e+00\n",
      "  1.13019220e+01]\n",
      " [2.72398718e+01 6.72344070e+01 1.68593909e+02 4.27564116e+02\n",
      "  1.09358835e+03]\n",
      " [2.81571663e+03 7.28848934e+03 1.89489253e+04 4.94444896e+04\n",
      "  1.29418563e+05]\n",
      " [3.39649373e+05 8.93446228e+05 2.35497022e+06 6.21841242e+06\n",
      "  1.64461904e+07]]\n",
      "finalize2 [[1.00000000e+00 1.26606588e+00 2.27958530e+00 4.88079259e+00\n",
      "  1.13019220e+01]\n",
      " [2.72398718e+01 6.72344070e+01 1.68593909e+02 4.27564116e+02\n",
      "  1.09358835e+03]\n",
      " [2.81571663e+03 7.28848934e+03 1.89489253e+04 4.94444896e+04\n",
      "  1.29418563e+05]\n",
      " [3.39649373e+05 8.93446228e+05 2.35497022e+06 6.21841242e+06\n",
      "  1.64461904e+07]]\n",
      "method='__call__'\n",
      "finalize [[3 3 3 3 4]\n",
      " [5 5 5 5 5]\n",
      " [5 5 5 5 5]\n",
      " [5 5 5 5 5]]\n",
      "finalize1 [[3 3 3 3 4]\n",
      " [5 5 5 5 5]\n",
      " [5 5 5 5 5]\n",
      " [5 5 5 5 5]]\n",
      "finalize2 [[3 3 3 3 4]\n",
      " [5 5 5 5 5]\n",
      " [5 5 5 5 5]\n",
      " [5 5 5 5 5]]\n",
      "finalize [[ 0  1  2  3  4]\n",
      " [ 5  6  7  8  9]\n",
      " [10 11 12 13 14]\n",
      " [15 16 17 18 19]]\n",
      "finalize1 [[ 0  1  2  3  4]\n",
      " [ 5  6  7  8  9]\n",
      " [10 11 12 13 14]\n",
      " [15 16 17 18 19]]\n",
      "finalize3 [[ 0  1  2  3  4]\n",
      " [ 5  6  7  8  9]\n",
      " [10 11 12 13 14]\n",
      " [15 16 17 18 19]]\n",
      "finalize [[ 0  1  2  3  4]\n",
      " [ 5  6  7  8  9]\n",
      " [10 11 12 13 14]\n",
      " [15 16 17 18 19]]\n",
      "finalize1 [[ 0  1  2  3  4]\n",
      " [ 5  6  7  8  9]\n",
      " [10 11 12 13 14]\n",
      " [15 16 17 18 19]]\n",
      "finalize2 [[ 0  1  2  3  4]\n",
      " [ 5  6  7  8  9]\n",
      " [10 11 12 13 14]\n",
      " [15 16 17 18 19]]\n",
      "finalize [[ 0  1  2  3  4]\n",
      " [ 5  6  7  8  9]\n",
      " [10 11 12 13 14]\n",
      " [15 16 17 18 19]]\n",
      "finalize1 [[ 0  1  2  3  4]\n",
      " [ 5  6  7  8  9]\n",
      " [10 11 12 13 14]\n",
      " [15 16 17 18 19]]\n",
      "finalize2 [[ 0  1  2  3  4]\n",
      " [ 5  6  7  8  9]\n",
      " [10 11 12 13 14]\n",
      " [15 16 17 18 19]]\n",
      "method='reduce'\n",
      "finalize [[ 0  1  2  3  4]\n",
      " [ 5  6  7  8  9]\n",
      " [10 11 12 13 14]\n",
      " [15 16 17 18 19]]\n",
      "finalize1 [[ 0  1  2  3  4]\n",
      " [ 5  6  7  8  9]\n",
      " [10 11 12 13 14]\n",
      " [15 16 17 18 19]]\n",
      "finalize3 [[ 0  1  2  3  4]\n",
      " [ 5  6  7  8  9]\n",
      " [10 11 12 13 14]\n",
      " [15 16 17 18 19]]\n",
      "method='accumulate'\n",
      "method='reduce'\n",
      "method='reduce'\n",
      "method='reduce'\n",
      "method='reduce'\n",
      "method='reduce'\n",
      "method='reduce'\n"
     ]
    }
   ],
   "source": [
    "should_be_image = [\n",
    "    image+1,\n",
    "    image*image,\n",
    "    image.astype(np.uint8),\n",
    "    np.fmax(image, image),\n",
    "    np.sin(image),\n",
    "    np.sin(image),\n",
    "    np.argsort(image),\n",
    "    sp.special.i0(image),\n",
    "    np.clip(image, 3, 5),\n",
    "    np.pad(image, (2, 3), 'constant', constant_values=(4, 6)),\n",
    "    image.reshape((-1,)),  # reshape is a view change\n",
    "]\n",
    "\n",
    "should_be_array = [\n",
    "    np.median(image, axis=1),\n",
    "    image.cumsum(),\n",
    "    image.sum(0),\n",
    "    image.sum(1),\n",
    "]\n",
    "should_be_none = [\n",
    "    np.amin(image),\n",
    "    np.min(image),\n",
    "    np.nanprod(image),\n",
    "    image.sum(),\n",
    "]\n"
   ]
  },
  {
   "cell_type": "code",
   "execution_count": 9,
   "id": "6ab32f4d-c8d3-4c99-8b80-3b22ae4979aa",
   "metadata": {},
   "outputs": [
    {
     "ename": "AssertionError",
     "evalue": "",
     "output_type": "error",
     "traceback": [
      "\u001b[0;31m---------------------------------------------------------------------------\u001b[0m",
      "\u001b[0;31mAssertionError\u001b[0m                            Traceback (most recent call last)",
      "Cell \u001b[0;32mIn[9], line 2\u001b[0m\n\u001b[1;32m      1\u001b[0m \u001b[38;5;28;01mfor\u001b[39;00m a \u001b[38;5;129;01min\u001b[39;00m should_be_image:\n\u001b[0;32m----> 2\u001b[0m     \u001b[38;5;28;01massert\u001b[39;00m get_view_name(a) \u001b[38;5;241m==\u001b[39m \u001b[38;5;124m'\u001b[39m\u001b[38;5;124mImage\u001b[39m\u001b[38;5;124m'\u001b[39m\n\u001b[1;32m      3\u001b[0m     a\u001b[38;5;241m.\u001b[39mwidth\n\u001b[1;32m      4\u001b[0m     a\u001b[38;5;241m.\u001b[39mheight\n",
      "\u001b[0;31mAssertionError\u001b[0m: "
     ]
    }
   ],
   "source": [
    "for a in should_be_image:\n",
    "    assert get_view_name(a) == 'Image'\n",
    "    a.width\n",
    "    a.height\n",
    "for a in should_be_array:\n",
    "    assert get_view_name(a) == 'array'\n",
    "for a in should_be_none:\n",
    "    assert get_view_name(a) is None"
   ]
  },
  {
   "cell_type": "code",
   "execution_count": null,
   "id": "4e2c9dd0-e596-4207-a2c0-f5dc4a01d44b",
   "metadata": {},
   "outputs": [],
   "source": []
  }
 ],
 "metadata": {
  "kernelspec": {
   "display_name": "Python 3 (ipykernel)",
   "language": "python",
   "name": "python3"
  },
  "language_info": {
   "codemirror_mode": {
    "name": "ipython",
    "version": 3
   },
   "file_extension": ".py",
   "mimetype": "text/x-python",
   "name": "python",
   "nbconvert_exporter": "python",
   "pygments_lexer": "ipython3",
   "version": "3.11.3"
  }
 },
 "nbformat": 4,
 "nbformat_minor": 5
}
